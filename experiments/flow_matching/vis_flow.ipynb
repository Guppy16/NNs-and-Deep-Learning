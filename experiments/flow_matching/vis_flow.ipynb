{
 "cells": [
  {
   "cell_type": "markdown",
   "metadata": {},
   "source": [
    "### Visualise Flow ODE"
   ]
  },
  {
   "cell_type": "code",
   "execution_count": 1,
   "metadata": {},
   "outputs": [
    {
     "name": "stdout",
     "output_type": "stream",
     "text": [
      "[experiments.base] [INFO] Added console handler\n",
      "[experiments.base] [INFO] Resources path: /workspaces/NNs-and-Deep-Learning/experiments/../resources\n",
      "[experiments.base] [INFO] Torch device: cpu\n"
     ]
    }
   ],
   "source": [
    "from experiments.flow_matching.cfm import FlowConfig, Flow\n",
    "from experiments.base import RESOURCES\n",
    "\n",
    "import matplotlib.pyplot as plt\n",
    "import matplotlib as mpl\n",
    "from matplotlib import cm\n",
    "import matplotlib.animation as ani\n",
    "from matplotlib.collections import PathCollection\n",
    "\n",
    "from pathlib import Path\n",
    "\n",
    "from torch import Tensor\n",
    "import numpy as np\n",
    "\n",
    "plt.rcParams['text.usetex'] = False\n",
    "\n",
    "# %matplotlib widget"
   ]
  },
  {
   "cell_type": "code",
   "execution_count": 2,
   "metadata": {},
   "outputs": [],
   "source": [
    "model_name = \"20250113-230712\"\n",
    "\n",
    "save_path = RESOURCES / \"models\" / \"flow\" / model_name / \"model\"\n",
    "\n",
    "assert save_path.exists()"
   ]
  },
  {
   "cell_type": "code",
   "execution_count": 3,
   "metadata": {},
   "outputs": [
    {
     "name": "stderr",
     "output_type": "stream",
     "text": [
      "/workspaces/NNs-and-Deep-Learning/experiments/base.py:155: FutureWarning: You are using `torch.load` with `weights_only=False` (the current default value), which uses the default pickle module implicitly. It is possible to construct malicious pickle data which will execute arbitrary code during unpickling (See https://github.com/pytorch/pytorch/blob/main/SECURITY.md#untrusted-models for more details). In a future release, the default value for `weights_only` will be flipped to `True`. This limits the functions that could be executed during unpickling. Arbitrary objects will no longer be allowed to be loaded via this mode unless they are explicitly allowlisted by the user via `torch.serialization.add_safe_globals`. We recommend you start setting `weights_only=True` for any use case where you don't have full control of the loaded file. Please open an issue on GitHub for any issues related to this experimental feature.\n",
      "  state_dict = torch.load(model_path, map_location=DEVICE)\n"
     ]
    }
   ],
   "source": [
    "# Load model\n",
    "\n",
    "model = Flow.load_model(save_path)"
   ]
  },
  {
   "cell_type": "code",
   "execution_count": 36,
   "metadata": {},
   "outputs": [],
   "source": [
    "n_steps = 60\n",
    "batch = 300\n",
    "samples, time_steps = model.sample(batch, n_steps)"
   ]
  },
  {
   "cell_type": "code",
   "execution_count": 37,
   "metadata": {},
   "outputs": [
    {
     "name": "stderr",
     "output_type": "stream",
     "text": [
      "WARNING:matplotlib.animation:MovieWriter imagemagick unavailable; using Pillow instead.\n",
      "INFO:matplotlib.animation:Animation.save using <class 'matplotlib.animation.PillowWriter'>\n"
     ]
    },
    {
     "data": {
      "image/png": "[encoded data removed]",
      "text/plain": [
       "<Figure size 300x300 with 1 Axes>"
      ]
     },
     "metadata": {},
     "output_type": "display_data"
    }
   ],
   "source": [
    "fig, ax = plt.subplots(1, 1, figsize=(3, 3))\n",
    "\n",
    "scat = ax.scatter(samples[0, :, 0], samples[0, :, 1], s=5)\n",
    "ax.set_xlim(-3, 3)\n",
    "ax.set_ylim(-3, 3)\n",
    "ax.set_aspect('equal')\n",
    "# remove axis\n",
    "ax.set_xticks([])\n",
    "ax.set_yticks([])\n",
    "\n",
    "def update(frame):\n",
    "    frame = min(frame, n_steps - 1) # clip to n_steps\n",
    "    scat.set_offsets(samples[frame])\n",
    "    return scat,\n",
    "\n",
    "anim = ani.FuncAnimation(fig, update, frames=range(n_steps + 500), blit=False, interval=1)\n",
    "# ani.save(RESOURCES / \"figures\" / \"flow\" / f\"{model_name}.gif\", writer='imagemagick', fps=10)\n",
    "anim.save(f\"moons_flow.gif\", writer='imagemagick')"
   ]
  },
  {
   "cell_type": "code",
   "execution_count": null,
   "metadata": {},
   "outputs": [],
   "source": []
  }
 ],
 "metadata": {
  "kernelspec": {
   "display_name": ".venv",
   "language": "python",
   "name": "python3"
  },
  "language_info": {
   "codemirror_mode": {
    "name": "ipython",
    "version": 3
   },
   "file_extension": ".py",
   "mimetype": "text/x-python",
   "name": "python",
   "nbconvert_exporter": "python",
   "pygments_lexer": "ipython3",
   "version": "3.12.1"
  }
 },
 "nbformat": 4,
 "nbformat_minor": 2
}
