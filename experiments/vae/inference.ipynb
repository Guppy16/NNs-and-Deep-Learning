{
 "cells": [
  {
   "cell_type": "code",
   "execution_count": 1,
   "metadata": {},
   "outputs": [
    {
     "name": "stdout",
     "output_type": "stream",
     "text": [
      "[experiments.base] [INFO] Added console handler\n",
      "[experiments.base] [INFO] Resources path: /home/akashg/git/NNs-and-Deep-Learning/experiments/../resources\n",
      "[experiments.base] [INFO] Torch device: cpu\n"
     ]
    }
   ],
   "source": [
    "import os\n",
    "os.chdir(\"../..\")\n",
    "\n",
    "from experiments.vae.vae import VAE, VAEConfig, set_seeds, RESOURCES, TBLogger\n",
    "from experiments.data import MNISTDataset, train_val_dataset_split\n",
    "from torch.utils.data import DataLoader\n",
    "from torchvision.utils import save_image\n",
    "import torch\n",
    "from pathlib import Path"
   ]
  },
  {
   "cell_type": "code",
   "execution_count": 6,
   "metadata": {},
   "outputs": [
    {
     "name": "stdout",
     "output_type": "stream",
     "text": [
      "[experiments.base] [INFO] Train size: 60000\n",
      "[experiments.base] [INFO] Test size: 10000\n",
      "[experiments.base] [INFO] Train set: 50000\n",
      "[experiments.base] [INFO] Valid set: 10000\n"
     ]
    }
   ],
   "source": [
    "set_seeds()\n",
    "\n",
    "model_dir = \"/home/akashg/git/NNs-and-Deep-Learning/resources/models/vae/20240807-222134\"\n",
    "model_dir = Path(model_dir)\n",
    "\n",
    "model = VAE.load_model(Path(model_dir))\n",
    "\n",
    "train_set, test_set = MNISTDataset()\n",
    "train_set, val_set = train_val_dataset_split(train_set, val_size=10000)\n",
    "\n",
    "val_loader = DataLoader(\n",
    "    val_set,\n",
    "    batch_size=model.config.batch_size,\n",
    "    shuffle=False,\n",
    "    collate_fn=lambda x: torch.stack([i[0] for i in x]),\n",
    ")\n",
    "\n",
    "# Run forward pass on validation set and save images\n",
    "model = model.eval()"
   ]
  },
  {
   "cell_type": "code",
   "execution_count": 9,
   "metadata": {},
   "outputs": [],
   "source": [
    "val_fpath = model_dir / \"val\"\n",
    "val_fpath.mkdir(exist_ok=True)\n",
    "\n",
    "original_fpath = val_fpath / \"original\"\n",
    "original_fpath.mkdir(exist_ok=True)\n",
    "\n",
    "for i, x in enumerate(val_loader):\n",
    "    x = x.to(model.device)\n",
    "    x_hat, _, _ = model(x)\n",
    "    x_hat = x_hat.view(-1, 1, 28, 28)\n",
    "    save_image(x_hat, val_fpath / f\"{i}.png\")\n",
    "    x = x.view(-1, 1, 28, 28)\n",
    "    save_image(x, original_fpath / f\"{i}.png\")\n",
    "    if i == 10:\n",
    "        break\n"
   ]
  },
  {
   "cell_type": "code",
   "execution_count": null,
   "metadata": {},
   "outputs": [],
   "source": []
  }
 ],
 "metadata": {
  "kernelspec": {
   "display_name": "Python 3",
   "language": "python",
   "name": "python3"
  },
  "language_info": {
   "codemirror_mode": {
    "name": "ipython",
    "version": 3
   },
   "file_extension": ".py",
   "mimetype": "text/x-python",
   "name": "python",
   "nbconvert_exporter": "python",
   "pygments_lexer": "ipython3",
   "version": "3.10.13"
  }
 },
 "nbformat": 4,
 "nbformat_minor": 2
}
